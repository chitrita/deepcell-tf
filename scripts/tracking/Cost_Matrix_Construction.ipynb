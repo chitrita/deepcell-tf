{
 "cells": [
  {
   "cell_type": "markdown",
   "metadata": {},
   "source": [
    "# Watershed distance transform for 3-dimensional data"
   ]
  },
  {
   "cell_type": "markdown",
   "metadata": {},
   "source": [
    "Import statements"
   ]
  },
  {
   "cell_type": "code",
   "execution_count": 1,
   "metadata": {},
   "outputs": [
    {
     "name": "stderr",
     "output_type": "stream",
     "text": [
      "Using TensorFlow backend.\n"
     ]
    }
   ],
   "source": [
    "import os\n",
    "import errno\n",
    "import argparse\n",
    "import datetime\n",
    "\n",
    "import numpy as np\n",
    "\n",
    "import tensorflow as tf\n",
    "from tensorflow.python.keras import backend as K\n",
    "from tensorflow.python.keras.optimizers import SGD, Adam\n",
    "from tensorflow.python.keras.models import Sequential, Model\n",
    "\n",
    "from deepcell import get_data\n",
    "from deepcell import make_training_data\n",
    "from deepcell import rate_scheduler\n",
    "from deepcell.model_zoo import siamese_model\n",
    "from deepcell.training import train_model_siamese_daughter\n"
   ]
  },
  {
   "cell_type": "markdown",
   "metadata": {},
   "source": [
    "## Conv Based Training"
   ]
  },
  {
   "cell_type": "code",
   "execution_count": null,
   "metadata": {},
   "outputs": [],
   "source": [
    "DATA_OUTPUT_MODE = 'siamese_daughters' \n",
    "BORDER_MODE = 'same'\n",
    "RESIZE = False\n",
    "RESHAPE_SIZE = None\n",
    "NUM_FRAMES = 40  # get first N frames from each training folder\n",
    "\n",
    "# filepath constants\n",
    "DATA_DIR = '/data/data'\n",
    "MODEL_DIR = '/data/models'\n",
    "NPZ_DIR = '/data/npz_data'\n",
    "RESULTS_DIR = '/data/results'\n",
    "EXPORT_DIR = '/data/exports'\n",
    "PREFIX = 'cells/HeLa/S3'\n",
    "#CONV_DATA_FILE = 'nuclear_movie_HeLa_{}'.format(DATA_OUTPUT_MODE)\n",
    "\n",
    "direc_name = '/data/data/cells/HeLa/S3/set1/movie'\n",
    "direc_data = '/data/npz_data/cells/HeLa/S3/movie/'\n",
    "output_directory = '/data/npz_data/cells/HeLa/S3/set1/movie1/'\n",
    "file_name_save = os.path.join( output_directory, 'nuclear_movie_HeLa_1_same.npz')\n",
    "\n",
    "# Training directories are organized according to location within an image\n",
    "num_x = 5 # Define num of horizontal samples\n",
    "num_y = 5 # Define num of vertical samples\n",
    "samples_to_drop = ['01_0'] # Some samples do not contain cells\n",
    "# Build list of possible training directories (excluding those to be dropped)\n",
    "training_direcs = ['0{}_{}'.format(i,j) for i in range(num_x) for j in range(num_y)]\n",
    "training_direcs = [x for x in training_direcs if x not in samples_to_drop]\n",
    "channel_names = [\"slice\"]\n",
    "\n",
    "# Create output ditrectory, if necessary\n",
    "#pathlib.Path( output_directory ).mkdir( parents=True, exist_ok=True )\n",
    "\n",
    "# The following is left from Wills tests and may be useful:\n",
    "# Check for channels_first or channels_last\n",
    "#IS_CHANNELS_FIRST = K.image_data_format() == 'channels_first'\n",
    "\n",
    "#ROW_AXIS = 3 if IS_CHANNELS_FIRST else 2\n",
    "#COL_AXIS = 4 if IS_CHANNELS_FIRST else 3\n",
    "#CHANNEL_AXIS = 1 if IS_CHANNELS_FIRST else 4\n",
    "\n",
    "# create these directories if they do not exist\n",
    "#for d in (NPZ_DIR, MODEL_DIR, RESULTS_DIR):\n",
    "#    try:\n",
    "#        os.makedirs(os.path.join(d, PREFIX))\n",
    "#        print('Created new directory:', os.path.join(d, PREFIX))\n",
    "#    except OSError as exc:  # Guard against race condition\n",
    "#        if exc.errno != errno.EEXIST:\n",
    "#            raise"
   ]
  },
  {
   "cell_type": "markdown",
   "metadata": {},
   "source": [
    "### Make Training Data"
   ]
  },
  {
   "cell_type": "code",
   "execution_count": null,
   "metadata": {},
   "outputs": [],
   "source": [
    "# Create the training data\n",
    "make_training_data(window_size_x = 30, window_size_y = 30,\n",
    "    direc_name = direc_name,\n",
    "    montage_mode=False,\n",
    "    file_name_save = file_name_save,\n",
    "    training_direcs = training_direcs,\n",
    "    channel_names = channel_names,\n",
    "    dimensionality = 3,\n",
    "    annotation_name = \"\",\n",
    "    raw_image_direc = \"processed\",\n",
    "    annotation_direc = \"annotated\",\n",
    "    border_mode = \"same\",\n",
    "    output_mode = \"conv\",\n",
    "    num_frames = 40,\n",
    "    reshape_size = None,\n",
    "    display = False,\n",
    "    num_of_frames_to_display = 5,\n",
    "    verbose = True)\n",
    "\n",
    "# The following is left from Wills tests and may be useful:\n",
    "#make_training_data(\n",
    "#    dimensionality=3,\n",
    "#    direc_name=os.path.join(DATA_DIR, PREFIX),\n",
    "#    file_name_save=os.path.join(NPZ_DIR, PREFIX, CONV_DATA_FILE),\n",
    "#    channel_names=['slice'],  # for iterating over stacks of images from a montage\n",
    "#    training_direcs=['set6'],\n",
    "#    output_mode=DATA_OUTPUT_MODE,\n",
    "#    window_size_x=30,\n",
    "#    window_size_y=30,\n",
    "#    window_size_z=3,\n",
    "#    border_mode=BORDER_MODE,\n",
    "#    reshape_size=None if not RESIZE else RESHAPE_SIZE,\n",
    "#    process=True,\n",
    "#    process_std=True,\n",
    "#    display=False,\n",
    "#    num_frames=NUM_FRAMES,\n",
    "#    num_of_frames_to_display=5,\n",
    "#    verbose=True,\n",
    "#    montage_mode=True,  # annotation folder has montaged sub-dirs\n",
    "#    annotation_name='',  # basically channel name but for annotated images\n",
    "#    raw_image_direc='stacked_raw',\n",
    "#    annotation_direc='annotated/all_montages')\n",
    "\n",
    "#if os.path.isfile(os.path.join(NPZ_DIR, PREFIX, CONV_DATA_FILE) + '.npz'):\n",
    "#    print('\\nData saved to', os.path.join(NPZ_DIR, PREFIX, CONV_DATA_FILE) + '.npz')\n",
    "#else:\n",
    "#    raise Exception('Your data file did not save properly')"
   ]
  },
  {
   "cell_type": "code",
   "execution_count": null,
   "metadata": {},
   "outputs": [],
   "source": [
    "# Load the training data from NPZ into a numpy array\n",
    "#training_data = np.load(os.path.join(NPZ_DIR, PREFIX, CONV_DATA_FILE + '.npz'))\n",
    "training_data = np.load('{}{}.npz'.format(direc_data, dataset))\n",
    "\n",
    "X, y = training_data['X'], training_data['y']\n",
    "print('X.shape: {}\\ny.shape: {}'.format(X.shape, y.shape))\n",
    "\n",
    "in_shape = (32, 32, 1)\n",
    "\n",
    "# Set up training parameters\n",
    "n_epoch = 10\n",
    "batch_size = 128\n",
    "#frames_per_batch = 10\n",
    "optimizer = SGD(lr=0.001, decay=1e-6, momentum=0.9, nesterov=True)\n",
    "lr_sched = rate_scheduler(lr=0.001, decay=0.99)"
   ]
  },
  {
   "cell_type": "code",
   "execution_count": null,
   "metadata": {},
   "outputs": [],
   "source": [
    "# First, create the Siamese model\n",
    "\n",
    "# Instantiate the model\n",
    "comparator_model = siamese_model(input_shape=in_shape)\n",
    "\n",
    "# Train the model\n",
    "train_model_siamese_daughter(\n",
    "    model=comparator_model,\n",
    "    dataset=dataset,\n",
    "    optimizer=optimizer,\n",
    "    expt='',\n",
    "    it=0,\n",
    "    batch_size=batch_size,\n",
    "    n_epoch=n_epoch,\n",
    "    direc_save='/data/models/cells/HeLa/S3',\n",
    "#   direc_save=os.path.join(MODEL_DIR, PREFIX),\n",
    "#   direc_data=os.path.join(NPZ_DIR, PREFIX),\n",
    "    direc_data=direc_data,\n",
    "    lr_sched=lr_sched,\n",
    "#   class_weight=training_data['class_weights'],\n",
    "    rotation_range=0,\n",
    "    flip=True,\n",
    "    shear=False)\n"
   ]
  },
  {
   "cell_type": "markdown",
   "metadata": {},
   "source": [
    "## Start here with a pre-trained model"
   ]
  },
  {
   "cell_type": "code",
   "execution_count": 2,
   "metadata": {},
   "outputs": [],
   "source": [
    "# If this is your starting point, you will need some housekeeping\n",
    "from deepcell.model_zoo import siamese_model\n",
    "from deepcell import get_data\n",
    "\n",
    "direc_data = '/data/npz_data/cells/HeLa/S3/movie/'\n",
    "dataset = 'nuclear_movie_hela0-3_same'\n",
    "MODEL_DIR = '/data/models'\n",
    "PREFIX = 'cells/HeLa/S3'\n",
    "\n",
    "in_shape = (32, 32, 1)\n",
    "\n",
    "# Now we can load some data to test on \n",
    "# For this example we load some data that we could train on:\n",
    "training_data_file = '{}{}.npz'.format(direc_data, dataset)\n",
    "train_dict, val_dict = get_data(training_data_file, mode='siamese_daughters')\n",
    "\n",
    "# We need to set a few parameters for the following functions\n",
    "data_format = K.image_data_format()\n",
    "\n",
    "if data_format == 'channels_first':\n",
    "    channel_axis = 1\n",
    "    row_axis = 3\n",
    "    col_axis = 4\n",
    "    time_axis = 2\n",
    "if data_format == 'channels_last':\n",
    "    channel_axis = 4\n",
    "    row_axis = 2\n",
    "    col_axis = 3\n",
    "    time_axis = 1\n",
    "x = np.asarray(train_dict['X'], dtype=K.floatx())\n",
    "y = np.array(train_dict['y'], dtype='int32')\n",
    "\n",
    "# Now we need to re-instantiate the model and load weights\n",
    "siamese_weights_file = '2018-08-13_nuclear_movie_hela0-3_same__0.h5'\n",
    "siamese_weights_file = os.path.join(MODEL_DIR, PREFIX, siamese_weights_file)\n",
    "\n",
    "comparator_model = siamese_model(input_shape=in_shape)\n",
    "comparator_model.load_weights(siamese_weights_file)"
   ]
  },
  {
   "cell_type": "code",
   "execution_count": 3,
   "metadata": {},
   "outputs": [
    {
     "name": "stdout",
     "output_type": "stream",
     "text": [
      "X shape (86, 40, 216, 256, 1)\n",
      "y shape (86, 40, 216, 256, 1)\n",
      "Movie shape (40, 216, 256, 1)\n",
      "Annotation shape (40, 216, 256, 1)\n"
     ]
    }
   ],
   "source": [
    "# Create our first movie and annotation to test the tracker\n",
    "print('X shape', x.shape)\n",
    "print('y shape', y.shape)\n",
    "\n",
    "first_movie = np.zeros(x[0].shape)\n",
    "first_annotation = np.zeros(y[0].shape)\n",
    "\n",
    "print('Movie shape', first_movie.shape)\n",
    "print('Annotation shape', first_annotation.shape)\n",
    "\n",
    "first_movie = x[0]\n",
    "first_annotation = y[0]\n"
   ]
  },
  {
   "cell_type": "markdown",
   "metadata": {},
   "source": [
    "## Import Tracking Functions"
   ]
  },
  {
   "cell_type": "code",
   "execution_count": 4,
   "metadata": {},
   "outputs": [],
   "source": [
    "from deepcell.tracking import cell_tracker"
   ]
  },
  {
   "cell_type": "code",
   "execution_count": 5,
   "metadata": {},
   "outputs": [
    {
     "name": "stderr",
     "output_type": "stream",
     "text": [
      "/usr/local/lib/python3.5/dist-packages/skimage/transform/_warps.py:105: UserWarning: The default mode, 'constant', will be changed to 'reflect' in skimage 0.15.\n",
      "  warn(\"The default mode, 'constant', will be changed to 'reflect' in \"\n",
      "/usr/local/lib/python3.5/dist-packages/skimage/transform/_warps.py:110: UserWarning: Anti-aliasing will be enabled by default in skimage 0.15 to avoid aliasing artifacts when down-sampling images.\n",
      "  warn(\"Anti-aliasing will be enabled by default in skimage 0.15 to \"\n"
     ]
    }
   ],
   "source": [
    "test_tracker = cell_tracker(\n",
    "    movie = first_movie, \n",
    "    annotation = first_annotation, \n",
    "    model = comparator_model, \n",
    "    crop_dim=32, \n",
    "    death=0.5, \n",
    "    birth=0.75,\n",
    "    max_distance=200,\n",
    "    track_length=1)"
   ]
  },
  {
   "cell_type": "markdown",
   "metadata": {},
   "source": [
    "#### Verify Annotation Clean up"
   ]
  },
  {
   "cell_type": "code",
   "execution_count": 6,
   "metadata": {},
   "outputs": [
    {
     "name": "stdout",
     "output_type": "stream",
     "text": [
      "Labels before:  [0 1 2 3 4]\n",
      "Labels after:   [0 1 2 3 4]\n"
     ]
    },
    {
     "data": {
      "image/png": "[encoded data removed]",
      "text/plain": [
       "<Figure size 864x864 with 2 Axes>"
      ]
     },
     "metadata": {},
     "output_type": "display_data"
    }
   ],
   "source": [
    "import matplotlib.pyplot as plt\n",
    "from skimage.io import imshow\n",
    "\n",
    "test_tracker._clean_up_annotations()\n",
    "\n",
    "# Compare labels in existence\n",
    "unique_cells_before = np.unique(first_annotation[0])\n",
    "unique_cells_after = np.unique(test_tracker.y[0])\n",
    "print('Labels before: ',unique_cells_before)\n",
    "print('Labels after:  ',unique_cells_after)\n",
    "\n",
    "# Compare 2 images\n",
    "before = first_annotation[0,:,:,0]\n",
    "after = test_tracker.y[0,:,:,0]\n",
    "\n",
    "fig, ax = plt.subplots(1, 2, figsize=(12,12))\n",
    "ax[0].imshow(before, interpolation='none', cmap='gray')\n",
    "ax[1].imshow(after, interpolation='none', cmap='gray')\n",
    "plt.show()"
   ]
  },
  {
   "cell_type": "markdown",
   "metadata": {},
   "source": [
    "## Build the Cost Matrix"
   ]
  },
  {
   "cell_type": "code",
   "execution_count": 7,
   "metadata": {},
   "outputs": [
    {
     "name": "stderr",
     "output_type": "stream",
     "text": [
      "/usr/local/lib/python3.5/dist-packages/skimage/transform/_warps.py:105: UserWarning: The default mode, 'constant', will be changed to 'reflect' in skimage 0.15.\n",
      "  warn(\"The default mode, 'constant', will be changed to 'reflect' in \"\n",
      "/usr/local/lib/python3.5/dist-packages/skimage/transform/_warps.py:110: UserWarning: Anti-aliasing will be enabled by default in skimage 0.15 to avoid aliasing artifacts when down-sampling images.\n",
      "  warn(\"Anti-aliasing will be enabled by default in skimage 0.15 to \"\n"
     ]
    },
    {
     "name": "stdout",
     "output_type": "stream",
     "text": [
      "[0.9986004  0.999298   0.00501609 0.01515502]\n"
     ]
    }
   ],
   "source": [
    "\n",
    "first_frame = 0\n",
    "first_cost_matrix = test_tracker._get_cost_matrix(frame = first_frame)\n",
    "\n"
   ]
  },
  {
   "cell_type": "markdown",
   "metadata": {},
   "source": [
    "## Linear Assignment Problem"
   ]
  },
  {
   "cell_type": "code",
   "execution_count": null,
   "metadata": {},
   "outputs": [],
   "source": [
    "from scipy.optimize import linear_sum_assignment\n",
    "\n",
    "\n",
    "\n",
    "\n"
   ]
  },
  {
   "cell_type": "code",
   "execution_count": null,
   "metadata": {},
   "outputs": [],
   "source": []
  },
  {
   "cell_type": "markdown",
   "metadata": {},
   "source": [
    "## Track Cells"
   ]
  },
  {
   "cell_type": "code",
   "execution_count": null,
   "metadata": {},
   "outputs": [],
   "source": [
    "._track_cells()"
   ]
  },
  {
   "cell_type": "markdown",
   "metadata": {},
   "source": [
    "## Visualize the Results"
   ]
  },
  {
   "cell_type": "code",
   "execution_count": null,
   "metadata": {},
   "outputs": [],
   "source": [
    "# Plot the results\n",
    "import matplotlib.pyplot as plt\n",
    "import matplotlib.animation as animation\n",
    "\n",
    "index = 0\n",
    "frame = 8\n",
    "\n",
    "fig, axes = plt.subplots(ncols=3, nrows=2, figsize=(15, 15), sharex=True, sharey=True)\n",
    "ax = axes.ravel()\n",
    "\n",
    "ax[0].imshow(X_test[index, frame, :, :, 0])\n",
    "ax[0].set_title('Source Image')\n",
    "\n",
    "ax[1].imshow(test_images_fgbg[index, frame, :, :, 1])\n",
    "ax[1].set_title('Segmentation Prediction')\n",
    "\n",
    "ax[2].imshow(fg_thresh[index, frame, :, :, 0], cmap='jet')\n",
    "ax[2].set_title('Thresholded Segmentation')\n",
    "\n",
    "ax[3].imshow(argmax_images[index, frame, :, :, 0], cmap='jet')\n",
    "ax[3].set_title('Watershed Transform')\n",
    "\n",
    "ax[4].imshow(argmax_images_post_fgbg[index, frame, :, :, 0], cmap='jet')\n",
    "ax[4].set_title('Watershed Transform w/o Background')\n",
    "\n",
    "ax[5].imshow(watershed_images[index, frame, :, :, 0], cmap='jet')\n",
    "ax[5].set_title('Watershed Segmentation')\n",
    "\n",
    "fig.tight_layout()\n",
    "plt.show()"
   ]
  },
  {
   "cell_type": "markdown",
   "metadata": {},
   "source": [
    "# Video Making"
   ]
  },
  {
   "cell_type": "code",
   "execution_count": null,
   "metadata": {},
   "outputs": [],
   "source": [
    "import matplotlib.pyplot as plt\n",
    "import matplotlib.animation as animation\n",
    "from IPython.display import HTML\n",
    "\n",
    "def get_js_video(images, batch=0, channel=0):\n",
    "    fig = plt.figure()\n",
    "    \n",
    "    ims = []\n",
    "    for i in range(images.shape[1]):\n",
    "        im = plt.imshow(images[batch, i, :, :, channel], animated=True, cmap='jet')\n",
    "        ims.append([im])\n",
    "\n",
    "    ani = animation.ArtistAnimation(fig, ims, interval=150, repeat_delay=1000)\n",
    "    return HTML(ani.to_jshtml())"
   ]
  },
  {
   "cell_type": "code",
   "execution_count": null,
   "metadata": {},
   "outputs": [],
   "source": [
    "get_js_video(argmax_images_post_fgbg)"
   ]
  },
  {
   "cell_type": "code",
   "execution_count": null,
   "metadata": {},
   "outputs": [],
   "source": [
    "get_js_video(watershed_images)"
   ]
  },
  {
   "cell_type": "code",
   "execution_count": null,
   "metadata": {},
   "outputs": [],
   "source": []
  },
  {
   "cell_type": "code",
   "execution_count": null,
   "metadata": {},
   "outputs": [],
   "source": []
  },
  {
   "cell_type": "code",
   "execution_count": null,
   "metadata": {},
   "outputs": [],
   "source": []
  }
 ],
 "metadata": {
  "kernelspec": {
   "display_name": "Python 3",
   "language": "python",
   "name": "python3"
  },
  "language_info": {
   "codemirror_mode": {
    "name": "ipython",
    "version": 3
   },
   "file_extension": ".py",
   "mimetype": "text/x-python",
   "name": "python",
   "nbconvert_exporter": "python",
   "pygments_lexer": "ipython3",
   "version": "3.5.2"
  }
 },
 "nbformat": 4,
 "nbformat_minor": 2
}
