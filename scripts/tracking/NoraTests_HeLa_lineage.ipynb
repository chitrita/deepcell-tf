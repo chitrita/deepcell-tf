{
 "cells": [
  {
   "cell_type": "markdown",
   "metadata": {},
   "source": [
    "## Training Script"
   ]
  },
  {
   "cell_type": "code",
   "execution_count": null,
   "metadata": {},
   "outputs": [
    {
     "name": "stderr",
     "output_type": "stream",
     "text": [
      "Using TensorFlow backend.\n"
     ]
    },
    {
     "name": "stdout",
     "output_type": "stream",
     "text": [
      "X_train shape: (86, 40, 216, 256, 1)\n",
      "y_train shape: (86, 40, 216, 256, 1)\n",
      "X_test shape: (10, 40, 216, 256, 1)\n",
      "y_test shape: (10, 40, 216, 256, 1)\n",
      "Output Shape: (None, 3)\n",
      "Using real-time data augmentation.\n",
      "total_train_pairs: 532720\n",
      "total_test_pairs: 107600\n",
      "batch size:  128\n",
      "validation_steps:  840\n"
     ]
    },
    {
     "name": "stderr",
     "output_type": "stream",
     "text": [
      "/usr/local/lib/python3.5/dist-packages/skimage/transform/_warps.py:105: UserWarning: The default mode, 'constant', will be changed to 'reflect' in skimage 0.15.\n",
      "  warn(\"The default mode, 'constant', will be changed to 'reflect' in \"\n",
      "/usr/local/lib/python3.5/dist-packages/skimage/transform/_warps.py:110: UserWarning: Anti-aliasing will be enabled by default in skimage 0.15 to avoid aliasing artifacts when down-sampling images.\n",
      "  warn(\"Anti-aliasing will be enabled by default in skimage 0.15 to \"\n"
     ]
    },
    {
     "name": "stdout",
     "output_type": "stream",
     "text": [
      "Epoch 1/10\n",
      "4159/4161 [============================>.] - ETA: 0s - loss: 0.0907 - acc: 0.9640\n",
      "Epoch 00001: val_loss improved from inf to 0.05240, saving model to /data/models/cells/HeLa/S3/2018-08-13_nuclear_movie_hela0-3_same__0.h5\n",
      "4161/4161 [==============================] - 233s 56ms/step - loss: 0.0907 - acc: 0.9640 - val_loss: 0.0524 - val_acc: 0.9756\n",
      "Epoch 2/10\n",
      "3772/4161 [==========================>...] - ETA: 13s - loss: 0.0435 - acc: 0.9844"
     ]
    }
   ],
   "source": [
    "import os\n",
    "import datetime\n",
    "\n",
    "import numpy as np\n",
    "import tensorflow as tf\n",
    "from tensorflow.python.keras import backend as K\n",
    "from tensorflow.python.keras.optimizers import SGD\n",
    "from tensorflow.python.keras.models import Sequential, Model\n",
    "\n",
    "from deepcell import rate_scheduler, siamese_model, train_model_siamese_daughter\n",
    "\n",
    "direc_data = '/data/npz_data/cells/HeLa/S3/movie/'\n",
    "dataset = 'nuclear_movie_hela0-3_same'\n",
    "\n",
    "training_data = np.load('{}{}.npz'.format(direc_data, dataset))\n",
    "\n",
    "optimizer = SGD(lr=0.01, decay=1e-6, momentum=0.9, nesterov=True)\n",
    "lr_sched = rate_scheduler(lr=0.001, decay=0.99)\n",
    "in_shape = (32, 32, 1)\n",
    "model = siamese_model(input_shape=in_shape)\n",
    "\n",
    "train_model_siamese_daughter(model=model,\n",
    "                    dataset=dataset,\n",
    "                    optimizer=optimizer,\n",
    "                    expt='',\n",
    "                    it=0,\n",
    "                    batch_size=128,\n",
    "                    min_track_length=1,\n",
    "                    n_epoch=10,\n",
    "                    direc_save='/data/models/cells/HeLa/S3',\n",
    "                    direc_data=direc_data,\n",
    "                    lr_sched=lr_sched,\n",
    "                    rotation_range=0,\n",
    "                    flip=True,\n",
    "                    shear=0,\n",
    "                    class_weight=None)"
   ]
  },
  {
   "cell_type": "code",
   "execution_count": null,
   "metadata": {},
   "outputs": [],
   "source": []
  }
 ],
 "metadata": {
  "kernelspec": {
   "display_name": "Python 3",
   "language": "python",
   "name": "python3"
  },
  "language_info": {
   "codemirror_mode": {
    "name": "ipython",
    "version": 3
   },
   "file_extension": ".py",
   "mimetype": "text/x-python",
   "name": "python",
   "nbconvert_exporter": "python",
   "pygments_lexer": "ipython3",
   "version": "3.5.2"
  }
 },
 "nbformat": 4,
 "nbformat_minor": 2
}
