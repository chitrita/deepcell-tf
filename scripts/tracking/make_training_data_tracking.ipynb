{
 "cells": [
  {
   "cell_type": "markdown",
   "metadata": {},
   "source": [
    "### scripts/make_training_data_scripts/make_training_data_nuclear_movie.py"
   ]
  },
  {
   "cell_type": "code",
   "execution_count": 1,
   "metadata": {},
   "outputs": [
    {
     "name": "stderr",
     "output_type": "stream",
     "text": [
      "/usr/local/lib/python3.5/dist-packages/h5py/__init__.py:36: FutureWarning: Conversion of the second argument of issubdtype from `float` to `np.floating` is deprecated. In future, it will be treated as `np.float64 == np.dtype(float).type`.\n",
      "  from ._conv import register_converters as _register_converters\n"
     ]
    },
    {
     "name": "stdout",
     "output_type": "stream",
     "text": [
      "Loading slice channel data from training dir 1: /data/data/cells/HeLa/S3/set1/movie/00_0/processed\n",
      "Loading slice channel data from training dir 2: /data/data/cells/HeLa/S3/set1/movie/00_1/processed\n",
      "Loading slice channel data from training dir 3: /data/data/cells/HeLa/S3/set1/movie/00_2/processed\n",
      "Loading slice channel data from training dir 4: /data/data/cells/HeLa/S3/set1/movie/00_3/processed\n",
      "Loading slice channel data from training dir 5: /data/data/cells/HeLa/S3/set1/movie/00_4/processed\n",
      "Loading slice channel data from training dir 6: /data/data/cells/HeLa/S3/set1/movie/01_1/processed\n",
      "Loading slice channel data from training dir 7: /data/data/cells/HeLa/S3/set1/movie/01_2/processed\n",
      "Loading slice channel data from training dir 8: /data/data/cells/HeLa/S3/set1/movie/01_3/processed\n",
      "Loading slice channel data from training dir 9: /data/data/cells/HeLa/S3/set1/movie/01_4/processed\n",
      "Loading slice channel data from training dir 10: /data/data/cells/HeLa/S3/set1/movie/02_0/processed\n",
      "Loading slice channel data from training dir 11: /data/data/cells/HeLa/S3/set1/movie/02_1/processed\n",
      "Loading slice channel data from training dir 12: /data/data/cells/HeLa/S3/set1/movie/02_2/processed\n",
      "Loading slice channel data from training dir 13: /data/data/cells/HeLa/S3/set1/movie/02_3/processed\n",
      "Loading slice channel data from training dir 14: /data/data/cells/HeLa/S3/set1/movie/02_4/processed\n",
      "Loading slice channel data from training dir 15: /data/data/cells/HeLa/S3/set1/movie/03_0/processed\n",
      "Loading slice channel data from training dir 16: /data/data/cells/HeLa/S3/set1/movie/03_1/processed\n",
      "Loading slice channel data from training dir 17: /data/data/cells/HeLa/S3/set1/movie/03_2/processed\n",
      "Loading slice channel data from training dir 18: /data/data/cells/HeLa/S3/set1/movie/03_3/processed\n",
      "Loading slice channel data from training dir 19: /data/data/cells/HeLa/S3/set1/movie/03_4/processed\n",
      "Loading slice channel data from training dir 20: /data/data/cells/HeLa/S3/set1/movie/04_0/processed\n",
      "Loading slice channel data from training dir 21: /data/data/cells/HeLa/S3/set1/movie/04_1/processed\n",
      "Loading slice channel data from training dir 22: /data/data/cells/HeLa/S3/set1/movie/04_2/processed\n",
      "Loading slice channel data from training dir 23: /data/data/cells/HeLa/S3/set1/movie/04_3/processed\n",
      "Loading slice channel data from training dir 24: /data/data/cells/HeLa/S3/set1/movie/04_4/processed\n"
     ]
    }
   ],
   "source": [
    "\"\"\"\n",
    "make_training_data_tracking.py\n",
    "\n",
    "Executing functions for creating npz files containing the training data\n",
    "Functions will create training data for either\n",
    "    - Patchwise sampling\n",
    "    - Fully convolutional training of single image conv-nets\n",
    "    - Fully convolutional training of movie conv-nets\n",
    "\n",
    "Files should be placed in training directories with each separate\n",
    "dataset getting its own folder\n",
    "\n",
    "@author: David Van Valen\n",
    "\"\"\"\n",
    "\n",
    "\"\"\"\n",
    "Import packages\n",
    "\"\"\"\n",
    "import numpy as np\n",
    "import matplotlib\n",
    "import matplotlib.pyplot as plt\n",
    "import glob\n",
    "import os\n",
    "import pathlib\n",
    "import skimage as sk\n",
    "import scipy as sp\n",
    "from scipy import ndimage\n",
    "from skimage import feature\n",
    "from skimage import morphology as morph\n",
    "from skimage.transform import resize\n",
    "from sklearn.utils import class_weight\n",
    "from deepcell import get_image\n",
    "from deepcell import make_training_data\n",
    "# from deepcell import format_coord as cf\n",
    "\n",
    "# Load data\n",
    "direc_name = '/data/data/cells/HeLa/S3/set2/movie'\n",
    "output_directory = '/data/npz_data/cells/HeLa/S3/set2/movie1/'\n",
    "file_name_save = os.path.join( output_directory, 'nuclear_movie_HeLa_1_same.npz')\n",
    "# Training directories are organized according to location within an image\n",
    "num_x = 5 # Define num of horizontal samples\n",
    "num_y = 5 # Define num of vertical samples\n",
    "samples_to_drop = ['01_0'] # Some samples do not contain cells\n",
    "# Build list of possible training directories (excluding those to be dropped)\n",
    "training_direcs = ['0{}_{}'.format(i,j) for i in range(num_x) for j in range(num_y)]\n",
    "training_direcs = [x for x in training_direcs if x not in samples_to_drop]\n",
    "channel_names = [\"slice\"]\n",
    "\n",
    "# Create output ditrectory, if necessary\n",
    "pathlib.Path( output_directory ).mkdir( parents=True, exist_ok=True )\n",
    "\n",
    "# Create the training data\n",
    "make_training_data(window_size_x = 30, window_size_y = 30,\n",
    "    direc_name = direc_name,\n",
    "    montage_mode=False,\n",
    "    file_name_save = file_name_save,\n",
    "    training_direcs = training_direcs,\n",
    "    channel_names = channel_names,\n",
    "    dimensionality = 3,\n",
    "    annotation_name = \"\",\n",
    "    raw_image_direc = \"processed\",\n",
    "    annotation_direc = \"annotated\",\n",
    "    border_mode = \"same\",\n",
    "    output_mode = \"conv\",\n",
    "    num_frames = 40,\n",
    "    reshape_size = None,\n",
    "    display = False,\n",
    "    num_of_frames_to_display = 5,\n",
    "    verbose = True)\n"
   ]
  },
  {
   "cell_type": "code",
   "execution_count": null,
   "metadata": {},
   "outputs": [],
   "source": []
  }
 ],
 "metadata": {
  "kernelspec": {
   "display_name": "Python 3",
   "language": "python",
   "name": "python3"
  },
  "language_info": {
   "codemirror_mode": {
    "name": "ipython",
    "version": 3
   },
   "file_extension": ".py",
   "mimetype": "text/x-python",
   "name": "python",
   "nbconvert_exporter": "python",
   "pygments_lexer": "ipython3",
   "version": "3.5.2"
  }
 },
 "nbformat": 4,
 "nbformat_minor": 2
}
